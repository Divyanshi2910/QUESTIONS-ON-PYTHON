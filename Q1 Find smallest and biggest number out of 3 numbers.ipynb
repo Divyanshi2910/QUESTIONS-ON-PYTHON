{
 "cells": [
  {
   "cell_type": "code",
   "execution_count": 3,
   "id": "a906e778",
   "metadata": {},
   "outputs": [
    {
     "name": "stdout",
     "output_type": "stream",
     "text": [
      "Enter the first number56\n",
      "Enter the second number13\n",
      "Enter the third number79\n",
      "c is the biggest number 79\n",
      "b is the smallest number 13\n"
     ]
    }
   ],
   "source": [
    "#WAP to find the Highest and the Smallest number out of 3 numbers\n",
    "\n",
    "a = int(input(\"Enter the first number\"))\n",
    "b = int(input(\"Enter the second number\"))\n",
    "c = int(input(\"Enter the third number\"))\n",
    "if(a>b and a>c):\n",
    "    print(\"a is the biggest number\",a)\n",
    "    if(b>c):\n",
    "        print(\"c is the smallest number\",c)\n",
    "    else:\n",
    "        print(\"b is the smallest number\",b)\n",
    "if(b>a and b>c):\n",
    "    print(\"b is the biggest number,\",b)\n",
    "    if(a>c):\n",
    "        print(\"c is the smallest number\",c)\n",
    "    else:\n",
    "        print(\"a is the smallest number\",a)\n",
    "if(c>a and c>b):\n",
    "    print(\"c is the biggest number\",c)\n",
    "    if(a>b):\n",
    "        print(\"b is the smallest number\",b)\n",
    "    else:\n",
    "        print(\"a is the smallest number\",a)"
   ]
  }
 ],
 "metadata": {
  "kernelspec": {
   "display_name": "Python 3 (ipykernel)",
   "language": "python",
   "name": "python3"
  },
  "language_info": {
   "codemirror_mode": {
    "name": "ipython",
    "version": 3
   },
   "file_extension": ".py",
   "mimetype": "text/x-python",
   "name": "python",
   "nbconvert_exporter": "python",
   "pygments_lexer": "ipython3",
   "version": "3.9.7"
  }
 },
 "nbformat": 4,
 "nbformat_minor": 5
}
