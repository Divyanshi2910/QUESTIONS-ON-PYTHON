{
 "cells": [
  {
   "cell_type": "markdown",
   "id": "f2054fe8",
   "metadata": {},
   "source": [
    "# WAP to make a calci"
   ]
  },
  {
   "cell_type": "code",
   "execution_count": 1,
   "id": "e9d8f489",
   "metadata": {},
   "outputs": [
    {
     "name": "stdout",
     "output_type": "stream",
     "text": [
      "Enter the first number 45\n",
      "Enter the second number67\n",
      "Enter the choice +, -, *, /: +\n",
      "112\n",
      "Want to continue Y/N?n\n"
     ]
    }
   ],
   "source": [
    "import operator\n",
    "while(1):\n",
    "    no1 = int(input(\"Enter the first number \"))\n",
    "    no2 = int(input(\"Enter the second number\"))\n",
    "    choice = input(\"Enter the choice +, -, *, /: \")\n",
    "    if(choice==\"+\"):\n",
    "        res = no1+no2\n",
    "        print(res)\n",
    "    elif(choice==\"-\"):\n",
    "        res = no1-no2\n",
    "        print(res)\n",
    "    elif(choice==\"*\"):\n",
    "        res = no1*no2\n",
    "        print(res)\n",
    "    elif(choice==\"/\"):\n",
    "        res = no1/no2\n",
    "        print(res)\n",
    "    else:\n",
    "        print(\"Incorrect choice\")\n",
    "    c = input(\"Want to continue Y/N?\")\n",
    "    if(c==\"N\" or c==\"n\"):\n",
    "        break"
   ]
  }
 ],
 "metadata": {
  "kernelspec": {
   "display_name": "Python 3 (ipykernel)",
   "language": "python",
   "name": "python3"
  },
  "language_info": {
   "codemirror_mode": {
    "name": "ipython",
    "version": 3
   },
   "file_extension": ".py",
   "mimetype": "text/x-python",
   "name": "python",
   "nbconvert_exporter": "python",
   "pygments_lexer": "ipython3",
   "version": "3.9.7"
  }
 },
 "nbformat": 4,
 "nbformat_minor": 5
}
